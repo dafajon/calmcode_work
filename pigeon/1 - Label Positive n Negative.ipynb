{
 "cells": [
  {
   "cell_type": "code",
   "execution_count": 2,
   "metadata": {},
   "outputs": [],
   "source": [
    "import pigeon\n",
    "import pandas as pd"
   ]
  },
  {
   "cell_type": "code",
   "execution_count": 4,
   "metadata": {},
   "outputs": [],
   "source": [
    "df = pd.read_csv(\"dorukhan.csv\")"
   ]
  },
  {
   "cell_type": "code",
   "execution_count": 5,
   "metadata": {},
   "outputs": [
    {
     "data": {
      "application/vnd.jupyter.widget-view+json": {
       "model_id": "c675ddbc3bf94e4aa071a69deb7548ad",
       "version_major": 2,
       "version_minor": 0
      },
      "text/plain": [
       "HTML(value='0 examples annotated, 251 examples left')"
      ]
     },
     "metadata": {},
     "output_type": "display_data"
    },
    {
     "data": {
      "application/vnd.jupyter.widget-view+json": {
       "model_id": "51899541b3c542baa88fa64968794d3e",
       "version_major": 2,
       "version_minor": 0
      },
      "text/plain": [
       "HBox(children=(Button(description='NEGATIVE', style=ButtonStyle()), Button(description='POSITIVE', style=Butto…"
      ]
     },
     "metadata": {},
     "output_type": "display_data"
    },
    {
     "data": {
      "application/vnd.jupyter.widget-view+json": {
       "model_id": "63e12a7bfacf45b6858a3e851d1ee448",
       "version_major": 2,
       "version_minor": 0
      },
      "text/plain": [
       "Output()"
      ]
     },
     "metadata": {},
     "output_type": "display_data"
    },
    {
     "data": {
      "text/plain": [
       "[]"
      ]
     },
     "execution_count": 5,
     "metadata": {},
     "output_type": "execute_result"
    },
    {
     "name": "stdout",
     "output_type": "stream",
     "text": [
      "Annotation done.\n"
     ]
    }
   ],
   "source": [
    "pigeon.annotate(df.text, options=['NEGATIVE', 'POSITIVE'], shuffle=True)"
   ]
  },
  {
   "cell_type": "code",
   "execution_count": 11,
   "metadata": {},
   "outputs": [],
   "source": [
    "annots = _5"
   ]
  },
  {
   "cell_type": "code",
   "execution_count": 18,
   "metadata": {},
   "outputs": [],
   "source": [
    "comments = [instance[0] for instance in annots]\n",
    "polarity = [instance[1] for instance in annots]\n",
    "\n",
    "annot_df = pd.DataFrame({'text':comments, 'sentiment_class':polarity})"
   ]
  },
  {
   "cell_type": "code",
   "execution_count": 22,
   "metadata": {},
   "outputs": [],
   "source": [
    "df = df.merge(annot_df, on='text')"
   ]
  },
  {
   "cell_type": "code",
   "execution_count": 26,
   "metadata": {},
   "outputs": [],
   "source": [
    "df.sentiment_class = df.sentiment_class.map({'POSITIVE': 2, 'NEGATIVE':0})"
   ]
  },
  {
   "cell_type": "code",
   "execution_count": 28,
   "metadata": {},
   "outputs": [],
   "source": [
    "df.to_csv('dorukhan_annotated.csv', index=False)"
   ]
  },
  {
   "cell_type": "code",
   "execution_count": 29,
   "metadata": {},
   "outputs": [
    {
     "data": {
      "text/html": [
       "<div>\n",
       "<style scoped>\n",
       "    .dataframe tbody tr th:only-of-type {\n",
       "        vertical-align: middle;\n",
       "    }\n",
       "\n",
       "    .dataframe tbody tr th {\n",
       "        vertical-align: top;\n",
       "    }\n",
       "\n",
       "    .dataframe thead th {\n",
       "        text-align: right;\n",
       "    }\n",
       "</style>\n",
       "<table border=\"1\" class=\"dataframe\">\n",
       "  <thead>\n",
       "    <tr style=\"text-align: right;\">\n",
       "      <th></th>\n",
       "      <th>text</th>\n",
       "      <th>uuid</th>\n",
       "      <th>sentiment_class</th>\n",
       "    </tr>\n",
       "  </thead>\n",
       "  <tbody>\n",
       "    <tr>\n",
       "      <th>0</th>\n",
       "      <td>paketleme ve kargolama iyi. ürüne ekran kartı ...</td>\n",
       "      <td>99db7856-2545-44d5-8125-a5d72bd2789b</td>\n",
       "      <td>2</td>\n",
       "    </tr>\n",
       "    <tr>\n",
       "      <th>1</th>\n",
       "      <td>Ürün güzel kargo geç çıktı</td>\n",
       "      <td>50cbcd00-c0ba-4d6e-afda-049c808361a0</td>\n",
       "      <td>2</td>\n",
       "    </tr>\n",
       "    <tr>\n",
       "      <th>2</th>\n",
       "      <td>Malzeme kalitesi düşük bir ürün. Uzun ömürlü o...</td>\n",
       "      <td>5cfa9aae-58ba-4df7-b8da-9e9965977706</td>\n",
       "      <td>0</td>\n",
       "    </tr>\n",
       "    <tr>\n",
       "      <th>3</th>\n",
       "      <td>Ürününü performansı iyi yanlız hortum ve fırca...</td>\n",
       "      <td>5d7850c7-870c-450b-813b-46320a635496</td>\n",
       "      <td>0</td>\n",
       "    </tr>\n",
       "    <tr>\n",
       "      <th>4</th>\n",
       "      <td>Ürünün okuma hızı 537 MB/saniyeyi görüyor ama ...</td>\n",
       "      <td>2de6041b-3a94-4715-8ba0-37d77cfa1993</td>\n",
       "      <td>0</td>\n",
       "    </tr>\n",
       "    <tr>\n",
       "      <th>...</th>\n",
       "      <td>...</td>\n",
       "      <td>...</td>\n",
       "      <td>...</td>\n",
       "    </tr>\n",
       "    <tr>\n",
       "      <th>245</th>\n",
       "      <td>Küçük olması nedeni ile taşınması kolay. İnter...</td>\n",
       "      <td>2a6ee4b0-8cf8-4cd6-a106-36593014d318</td>\n",
       "      <td>2</td>\n",
       "    </tr>\n",
       "    <tr>\n",
       "      <th>246</th>\n",
       "      <td>ısınma süresi iyi fena değil fakat alt ayaklar...</td>\n",
       "      <td>cf008326-96a0-49a5-a44d-22fc92bac52e</td>\n",
       "      <td>0</td>\n",
       "    </tr>\n",
       "    <tr>\n",
       "      <th>247</th>\n",
       "      <td>Ürünün okuma yazma hızı gayet güzel,şık bir gö...</td>\n",
       "      <td>d8f42f72-ee4b-406e-84f8-e6da2453c9c1</td>\n",
       "      <td>2</td>\n",
       "    </tr>\n",
       "    <tr>\n",
       "      <th>248</th>\n",
       "      <td>çok güzel bir ürün</td>\n",
       "      <td>6fb738e0-5e33-4d90-a590-9ff20dc52083</td>\n",
       "      <td>2</td>\n",
       "    </tr>\n",
       "    <tr>\n",
       "      <th>249</th>\n",
       "      <td>ince malzeme... fiyatına göre çelik sanıyordum...</td>\n",
       "      <td>1fb3b77c-ff9d-433d-9d8e-8bae1a4e4391</td>\n",
       "      <td>0</td>\n",
       "    </tr>\n",
       "  </tbody>\n",
       "</table>\n",
       "<p>250 rows × 3 columns</p>\n",
       "</div>"
      ],
      "text/plain": [
       "                                                  text  \\\n",
       "0    paketleme ve kargolama iyi. ürüne ekran kartı ...   \n",
       "1                           Ürün güzel kargo geç çıktı   \n",
       "2    Malzeme kalitesi düşük bir ürün. Uzun ömürlü o...   \n",
       "3    Ürününü performansı iyi yanlız hortum ve fırca...   \n",
       "4    Ürünün okuma hızı 537 MB/saniyeyi görüyor ama ...   \n",
       "..                                                 ...   \n",
       "245  Küçük olması nedeni ile taşınması kolay. İnter...   \n",
       "246  ısınma süresi iyi fena değil fakat alt ayaklar...   \n",
       "247  Ürünün okuma yazma hızı gayet güzel,şık bir gö...   \n",
       "248                                 çok güzel bir ürün   \n",
       "249  ince malzeme... fiyatına göre çelik sanıyordum...   \n",
       "\n",
       "                                     uuid  sentiment_class  \n",
       "0    99db7856-2545-44d5-8125-a5d72bd2789b                2  \n",
       "1    50cbcd00-c0ba-4d6e-afda-049c808361a0                2  \n",
       "2    5cfa9aae-58ba-4df7-b8da-9e9965977706                0  \n",
       "3    5d7850c7-870c-450b-813b-46320a635496                0  \n",
       "4    2de6041b-3a94-4715-8ba0-37d77cfa1993                0  \n",
       "..                                    ...              ...  \n",
       "245  2a6ee4b0-8cf8-4cd6-a106-36593014d318                2  \n",
       "246  cf008326-96a0-49a5-a44d-22fc92bac52e                0  \n",
       "247  d8f42f72-ee4b-406e-84f8-e6da2453c9c1                2  \n",
       "248  6fb738e0-5e33-4d90-a590-9ff20dc52083                2  \n",
       "249  1fb3b77c-ff9d-433d-9d8e-8bae1a4e4391                0  \n",
       "\n",
       "[250 rows x 3 columns]"
      ]
     },
     "execution_count": 29,
     "metadata": {},
     "output_type": "execute_result"
    }
   ],
   "source": [
    "df"
   ]
  },
  {
   "cell_type": "code",
   "execution_count": null,
   "metadata": {},
   "outputs": [],
   "source": []
  }
 ],
 "metadata": {
  "kernelspec": {
   "display_name": "Python 3",
   "language": "python",
   "name": "python3"
  },
  "language_info": {
   "codemirror_mode": {
    "name": "ipython",
    "version": 3
   },
   "file_extension": ".py",
   "mimetype": "text/x-python",
   "name": "python",
   "nbconvert_exporter": "python",
   "pygments_lexer": "ipython3",
   "version": "3.7.7"
  }
 },
 "nbformat": 4,
 "nbformat_minor": 4
}
