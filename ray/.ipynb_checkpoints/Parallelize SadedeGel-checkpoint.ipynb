{
 "cells": [
  {
   "cell_type": "code",
   "execution_count": 41,
   "metadata": {},
   "outputs": [],
   "source": [
    "import ray\n",
    "import pandas as pd\n",
    "import numpy as np\n",
    "from sadedegel import Doc\n",
    "from sadedegel.extension.sklearn import TfidfVectorizer, Text2Doc\n",
    "from sadedegel.config import tokenizer_context\n",
    "\n",
    "from sklearn.pipeline import Pipeline"
   ]
  },
  {
   "cell_type": "code",
   "execution_count": 43,
   "metadata": {},
   "outputs": [],
   "source": [
    "ray.shutdown()"
   ]
  },
  {
   "cell_type": "code",
   "execution_count": 3,
   "metadata": {},
   "outputs": [],
   "source": [
    "df = pd.read_csv('/Users/dorukhanafacan/Desktop/sadedegel_turkcell/telco_sentiment/telco_sentiment/telco_sentiment_train.csv.gz')"
   ]
  },
  {
   "cell_type": "code",
   "execution_count": 20,
   "metadata": {},
   "outputs": [],
   "source": [
    "dfs = np.array_split(df.sample(10000), 4)"
   ]
  },
  {
   "cell_type": "code",
   "execution_count": 7,
   "metadata": {},
   "outputs": [
    {
     "name": "stderr",
     "output_type": "stream",
     "text": [
      "2021-04-11 00:01:54.058 | INFO     | sadedegel.ml.sbd:predict:22 - Loading sbd model from /anaconda3/envs/py37/lib/python3.7/site-packages/sadedegel/ml/model/sbd.pickle\n"
     ]
    }
   ],
   "source": [
    "with tokenizer_context('simple') as Doc2:\n",
    "    ts = Doc2(\"merhaba dünya biz dostuz selamlar.\").get_tfidf(tf_method='raw', idf_method='smooth')"
   ]
  },
  {
   "cell_type": "code",
   "execution_count": 46,
   "metadata": {},
   "outputs": [],
   "source": [
    "@ray.remote\n",
    "def get_len_parallel(df):\n",
    "    return df.tweet.apply(lambda x: len(x))\n",
    "\n",
    "@ray.remote\n",
    "def text2doc_parallel(df):\n",
    "    with tokenizer_context('simple') as Doc2:\n",
    "        return df.tweet.apply(lambda x: Doc2(x))\n",
    "                              \n",
    "def get_len(df):\n",
    "    return df.tweet.apply(lambda x: len(x))\n",
    "\n",
    "@ray.remote\n",
    "def get_tfidf_parallel(df):\n",
    "    return Pipeline([(\"Text2Doc\", Text2Doc('simple')),\n",
    "                     (\"TfIdf\", TfidfVectorizer(show_progress=False))]).transform(df)"
   ]
  },
  {
   "cell_type": "code",
   "execution_count": 44,
   "metadata": {},
   "outputs": [
    {
     "name": "stderr",
     "output_type": "stream",
     "text": [
      "2021-04-11 00:17:30,426\tWARNING worker.py:631 -- File descriptor limit 256 is too low for production servers and may result in connection errors. At least 8192 is recommended. --- Fix with 'ulimit -n 8192'\n",
      "2021-04-11 00:17:30,877\tINFO services.py:1174 -- View the Ray dashboard at \u001b[1m\u001b[32mhttp://127.0.0.1:8265\u001b[39m\u001b[22m\n"
     ]
    },
    {
     "data": {
      "text/plain": [
       "{'node_ip_address': '192.168.1.104',\n",
       " 'raylet_ip_address': '192.168.1.104',\n",
       " 'redis_address': '192.168.1.104:6379',\n",
       " 'object_store_address': '/tmp/ray/session_2021-04-11_00-17-30_429470_20696/sockets/plasma_store',\n",
       " 'raylet_socket_name': '/tmp/ray/session_2021-04-11_00-17-30_429470_20696/sockets/raylet',\n",
       " 'webui_url': '127.0.0.1:8265',\n",
       " 'session_dir': '/tmp/ray/session_2021-04-11_00-17-30_429470_20696',\n",
       " 'metrics_export_port': 64530,\n",
       " 'node_id': '2412e42ce4e191b1d4c9a69aad4b8bdfcbc4f35d9156b1e18c59704e'}"
      ]
     },
     "execution_count": 44,
     "metadata": {},
     "output_type": "execute_result"
    }
   ],
   "source": [
    "ray.init(num_cpus=4)"
   ]
  },
  {
   "cell_type": "code",
   "execution_count": 16,
   "metadata": {},
   "outputs": [],
   "source": [
    "future_lens = [get_len_parallel.remote(df_part) for df_part in dfs]"
   ]
  },
  {
   "cell_type": "code",
   "execution_count": 23,
   "metadata": {},
   "outputs": [
    {
     "name": "stdout",
     "output_type": "stream",
     "text": [
      "CPU times: user 1.1 ms, sys: 112 µs, total: 1.21 ms\n",
      "Wall time: 1.14 ms\n"
     ]
    }
   ],
   "source": [
    "%%time\n",
    "lens = ray.get(future_lens)"
   ]
  },
  {
   "cell_type": "code",
   "execution_count": 33,
   "metadata": {},
   "outputs": [
    {
     "name": "stdout",
     "output_type": "stream",
     "text": [
      "CPU times: user 5.93 ms, sys: 88 µs, total: 6.02 ms\n",
      "Wall time: 5.94 ms\n"
     ]
    }
   ],
   "source": [
    "%%time\n",
    "lens = get_len(df)"
   ]
  },
  {
   "cell_type": "code",
   "execution_count": 19,
   "metadata": {},
   "outputs": [],
   "source": [
    "future_docs = [text2doc_parallel.remote(df_part) for df_part in dfs]"
   ]
  },
  {
   "cell_type": "code",
   "execution_count": 21,
   "metadata": {},
   "outputs": [
    {
     "name": "stderr",
     "output_type": "stream",
     "text": [
      "\u001b[2m\u001b[36m(pid=22448)\u001b[0m 2021-04-11 00:09:15.638 | INFO     | sadedegel.ml.sbd:predict:22 - Loading sbd model from /anaconda3/envs/py37/lib/python3.7/site-packages/sadedegel/ml/model/sbd.pickle\n",
      "\u001b[2m\u001b[36m(pid=22448)\u001b[0m 2021-04-11 00:09:15.638 | INFO     | sadedegel.ml.sbd:predict:22 - Loading sbd model from /anaconda3/envs/py37/lib/python3.7/site-packages/sadedegel/ml/model/sbd.pickle\n",
      "\u001b[2m\u001b[36m(pid=22449)\u001b[0m 2021-04-11 00:09:15.701 | INFO     | sadedegel.ml.sbd:predict:22 - Loading sbd model from /anaconda3/envs/py37/lib/python3.7/site-packages/sadedegel/ml/model/sbd.pickle\n",
      "\u001b[2m\u001b[36m(pid=22449)\u001b[0m 2021-04-11 00:09:15.701 | INFO     | sadedegel.ml.sbd:predict:22 - Loading sbd model from /anaconda3/envs/py37/lib/python3.7/site-packages/sadedegel/ml/model/sbd.pickle\n",
      "\u001b[2m\u001b[36m(pid=22447)\u001b[0m 2021-04-11 00:09:15.862 | INFO     | sadedegel.ml.sbd:predict:22 - Loading sbd model from /anaconda3/envs/py37/lib/python3.7/site-packages/sadedegel/ml/model/sbd.pickle\n",
      "\u001b[2m\u001b[36m(pid=22447)\u001b[0m 2021-04-11 00:09:15.862 | INFO     | sadedegel.ml.sbd:predict:22 - Loading sbd model from /anaconda3/envs/py37/lib/python3.7/site-packages/sadedegel/ml/model/sbd.pickle\n",
      "\u001b[2m\u001b[36m(pid=22446)\u001b[0m 2021-04-11 00:09:16.197 | INFO     | sadedegel.ml.sbd:predict:22 - Loading sbd model from /anaconda3/envs/py37/lib/python3.7/site-packages/sadedegel/ml/model/sbd.pickle\n",
      "\u001b[2m\u001b[36m(pid=22446)\u001b[0m 2021-04-11 00:09:16.197 | INFO     | sadedegel.ml.sbd:predict:22 - Loading sbd model from /anaconda3/envs/py37/lib/python3.7/site-packages/sadedegel/ml/model/sbd.pickle\n"
     ]
    }
   ],
   "source": [
    "docs = ray.get(future_docs)"
   ]
  },
  {
   "cell_type": "code",
   "execution_count": 54,
   "metadata": {},
   "outputs": [],
   "source": [
    "future_vecs = [get_tfidf_parallel.remote(df_part.tweet) for df_part in dfs]"
   ]
  },
  {
   "cell_type": "code",
   "execution_count": 55,
   "metadata": {},
   "outputs": [],
   "source": [
    "docs = ray.get(future_vecs)\n",
    "ray.shutdown()"
   ]
  },
  {
   "cell_type": "code",
   "execution_count": 56,
   "metadata": {},
   "outputs": [
    {
     "data": {
      "text/plain": [
       "[<2500x61954 sparse matrix of type '<class 'numpy.float32'>'\n",
       " \twith 17603 stored elements in Compressed Sparse Row format>,\n",
       " <2500x61954 sparse matrix of type '<class 'numpy.float32'>'\n",
       " \twith 17707 stored elements in Compressed Sparse Row format>,\n",
       " <2500x61954 sparse matrix of type '<class 'numpy.float32'>'\n",
       " \twith 17983 stored elements in Compressed Sparse Row format>,\n",
       " <2500x61954 sparse matrix of type '<class 'numpy.float32'>'\n",
       " \twith 17394 stored elements in Compressed Sparse Row format>]"
      ]
     },
     "execution_count": 56,
     "metadata": {},
     "output_type": "execute_result"
    }
   ],
   "source": [
    "docs"
   ]
  }
 ],
 "metadata": {
  "kernelspec": {
   "display_name": "Python [conda env:py37]",
   "language": "python",
   "name": "conda-env-py37-py"
  },
  "language_info": {
   "codemirror_mode": {
    "name": "ipython",
    "version": 3
   },
   "file_extension": ".py",
   "mimetype": "text/x-python",
   "name": "python",
   "nbconvert_exporter": "python",
   "pygments_lexer": "ipython3",
   "version": "3.7.7"
  }
 },
 "nbformat": 4,
 "nbformat_minor": 2
}
